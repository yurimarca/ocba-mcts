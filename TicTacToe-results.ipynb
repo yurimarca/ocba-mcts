{
 "cells": [
  {
   "cell_type": "markdown",
   "id": "ef4368aa",
   "metadata": {},
   "source": [
    "# Tic-Tac-Toe MCTS Performance Evaluation\n",
    "\n",
    "In this notebook, we explore the performance of different tree policies within the Monte Carlo Tree Search (MCTS) framework applied to a Tic-Tac-Toe game. We will compare the Probability of Correct Selection (PCS) between the standard UCB (Upper Confidence Bound) and the OCBA (Optimal Computing Budget Allocation) tree policies following the implementation from the paper [OCBA-MCTS Paper](https://arxiv.org/pdf/2009.12407).\n",
    "\n",
    "The experiment will involve simulating a series of games where the MCTS algorithm selects the best move from a given starting position. The PCS will be evaluated based on the selection of the center move (considered optimal in this context) across different numbers of simulations.\n"
   ]
  },
  {
   "cell_type": "code",
   "execution_count": 1,
   "id": "c6c2471a",
   "metadata": {},
   "outputs": [],
   "source": [
    "import numpy as np\n",
    "import pandas as pd\n",
    "import matplotlib.pyplot as plt\n",
    "from tqdm import tqdm"
   ]
  },
  {
   "cell_type": "markdown",
   "id": "09c2f756",
   "metadata": {},
   "source": [
    "## Importing Required Libraries\n",
    "\n",
    "We start by importing the necessary libraries and modules. These include classes for Tic-Tac-Toe game states and moves, MCTS, and the specific tree policies we are comparing."
   ]
  },
  {
   "cell_type": "code",
   "execution_count": 2,
   "id": "3eaaeeab",
   "metadata": {},
   "outputs": [],
   "source": [
    "from tictactoe import TicTacToeMove, TicTacToeGameState\n",
    "from node import StateNode, StateActionNode\n",
    "from mcts import MonteCarloTreeSearch\n",
    "from tree_policy import TreePolicy_UCB, TreePolicy_OCBA"
   ]
  },
  {
   "cell_type": "markdown",
   "id": "6adc88e2",
   "metadata": {},
   "source": [
    "## Setting Up the Experiment\n",
    "\n",
    "We define the range of simulations `Ns` we will use and set the number of repetitions to ensure statistically significant results. The Tic-Tac-Toe board is initialized with a specific starting move to create the initial game state, which will serve as the root of the MCTS tree."
   ]
  },
  {
   "cell_type": "code",
   "execution_count": 3,
   "id": "4d8078ae",
   "metadata": {},
   "outputs": [],
   "source": [
    "Ns = np.linspace(300, 700, num=9, dtype=int, endpoint=True)\n",
    "n_repetitions = 1000"
   ]
  },
  {
   "cell_type": "code",
   "execution_count": 4,
   "id": "c730bc57",
   "metadata": {},
   "outputs": [],
   "source": [
    "initial_player = 1\n",
    "board_size = 3\n",
    "board = np.zeros((board_size,board_size))\n",
    "init_env_state = TicTacToeGameState(board, initial_player)\n",
    "tictactoe_move = TicTacToeMove(0, 0, initial_player)\n",
    "init_env_state = init_env_state.move(tictactoe_move)"
   ]
  },
  {
   "cell_type": "markdown",
   "id": "42fd3fd2",
   "metadata": {},
   "source": [
    "## Visualizing the Tic-Tac-Toe Board\n",
    "\n",
    "Before we start the MCTS simulations, we display the board's position layout and the initial configuration after the first move. This helps in understanding the starting point for the MCTS algorithm."
   ]
  },
  {
   "cell_type": "code",
   "execution_count": 5,
   "id": "3b532556",
   "metadata": {},
   "outputs": [
    {
     "name": "stdout",
     "output_type": "stream",
     "text": [
      "The number corresponding to each position of the board is illustrated in the sequence:\n",
      "\n",
      "0 | 1 | 2\n",
      "--+---+--\n",
      "3 | 4 | 5\n",
      "--+---+--\n",
      "6 | 7 | 8\n",
      "\n"
     ]
    }
   ],
   "source": [
    "print(\"The number corresponding to each position of the board is illustrated in the sequence:\")\n",
    "init_env_state.print_board_positions()"
   ]
  },
  {
   "cell_type": "code",
   "execution_count": 6,
   "id": "b6d0b335",
   "metadata": {},
   "outputs": [
    {
     "name": "stdout",
     "output_type": "stream",
     "text": [
      "Root node board configuration:\n",
      "\n",
      "O |   |  \n",
      "--+---+--\n",
      "  |   |  \n",
      "--+---+--\n",
      "  |   |  \n",
      "\n",
      "\n"
     ]
    }
   ],
   "source": [
    "print(\"Root node board configuration:\")\n",
    "init_env_state.print_board()"
   ]
  },
  {
   "cell_type": "markdown",
   "id": "70598c91",
   "metadata": {},
   "source": [
    "## Running MCTS Simulations with Different Tree Policies\n",
    "\n",
    "We now run the MCTS algorithm using both the UCB and OCBA tree policies. For each policy, the algorithm will simulate a series of games, and we will record how often the center move is selected as the best action. This selection frequency is used to calculate the Probability of Correct Selection (PCS)."
   ]
  },
  {
   "cell_type": "code",
   "execution_count": 7,
   "id": "74f1b45e",
   "metadata": {},
   "outputs": [],
   "source": [
    "tree_policy_ucb = TreePolicy_UCB()\n",
    "tree_policy_ocba = TreePolicy_OCBA()\n",
    "\n",
    "tree_policies = [tree_policy_ucb, tree_policy_ocba]"
   ]
  },
  {
   "cell_type": "code",
   "execution_count": 8,
   "id": "e42d7330",
   "metadata": {},
   "outputs": [
    {
     "name": "stderr",
     "output_type": "stream",
     "text": [
      "100%|█████████████████████████████████████████████████████████████████████████████████████████████████████████████████████████████████████████████████████████████████████████| 1000/1000 [1:18:07<00:00,  4.69s/it]\n",
      "100%|█████████████████████████████████████████████████████████████████████████████████████████████████████████████████████████████████████████████████████████████████████████| 1000/1000 [1:27:57<00:00,  5.28s/it]\n"
     ]
    }
   ],
   "source": [
    "for tree_policy in tree_policies:\n",
    "    pcs = np.zeros(len(Ns))\n",
    "    \n",
    "    for seed in tqdm(range(n_repetitions)):\n",
    "    #for seed in range(n_repetitions):\n",
    "        np.random.seed(seed)\n",
    "        for it in range(len(Ns)):\n",
    "            root = StateNode(init_env_state)\n",
    "            mcts = MonteCarloTreeSearch(root, tree_policy)\n",
    "            df = mcts.search(Ns[it])\n",
    "        \n",
    "            best_action = mcts.best_action()\n",
    "            best_action_id = best_action.move_id\n",
    "            \n",
    "            if best_action_id == 4:\n",
    "                pcs[it] += 1\n",
    "            \n",
    "    pcs /= n_repetitions\n",
    "    tree_policy.set_pcs(pcs)"
   ]
  },
  {
   "cell_type": "markdown",
   "id": "77367e56",
   "metadata": {},
   "source": [
    "## Plotting PCS Curve Comparison\n",
    "\n",
    "Finally, we plot the PCS curve for each tree policy across the different numbers of simulations `N`. This will allow us to visually compare the performance of UCB and OCBA in guiding the MCTS algorithm toward selecting the optimal move."
   ]
  },
  {
   "cell_type": "code",
   "execution_count": 9,
   "id": "41d15aef",
   "metadata": {},
   "outputs": [
    {
     "data": {
      "image/png": "[encoded data removed]",
      "text/plain": [
       "<Figure size 640x480 with 1 Axes>"
      ]
     },
     "metadata": {},
     "output_type": "display_data"
    }
   ],
   "source": [
    "plt.figure()\n",
    "\n",
    "# PCS arrays\n",
    "for tree_policy in tree_policies:\n",
    "    plt.plot(Ns, tree_policy.pcs, 'o-', label=tree_policy.name, color=tree_policy.color)\n",
    "\n",
    "# Plot\n",
    "plt.title('PCS curve comparison')\n",
    "plt.xlabel('N')\n",
    "plt.ylabel('Probability of Correct Selection')\n",
    "plt.legend(loc=\"lower right\")\n",
    "plt.show()"
   ]
  },
  {
   "cell_type": "markdown",
   "id": "b95241c4",
   "metadata": {},
   "source": [
    "## Conclusion\n",
    "\n",
    "This experiment highlights the efficiency of the OCBA tree policy in guiding the MCTS algorithm compared to the traditional UCB method. The OCBA-MCTS combination demonstrates a higher Probability of Correct Selection with fewer simulations, making it a promising approach for resource-constrained decision-making problems."
   ]
  }
 ],
 "metadata": {
  "kernelspec": {
   "display_name": "Python 3 (ipykernel)",
   "language": "python",
   "name": "python3"
  },
  "language_info": {
   "codemirror_mode": {
    "name": "ipython",
    "version": 3
   },
   "file_extension": ".py",
   "mimetype": "text/x-python",
   "name": "python",
   "nbconvert_exporter": "python",
   "pygments_lexer": "ipython3",
   "version": "3.8.18"
  }
 },
 "nbformat": 4,
 "nbformat_minor": 5
}
